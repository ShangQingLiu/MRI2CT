{
 "cells": [
  {
   "cell_type": "code",
   "execution_count": 1,
   "source": [
    "import numpy as np\n",
    "import SimpleITK as sitk"
   ],
   "outputs": [],
   "metadata": {}
  },
  {
   "cell_type": "code",
   "execution_count": 2,
   "source": [
    "def load(name):\n",
    "    vol = sitk.ReadImage(name)\n",
    "    arr = sitk.GetArrayFromImage(vol)\n",
    "    return arr"
   ],
   "outputs": [],
   "metadata": {}
  },
  {
   "cell_type": "code",
   "execution_count": 3,
   "source": [
    "def maskMAE(arr1, arr2, mask):\n",
    "    ct1 = arr1\n",
    "    ct2 = arr2\n",
    "\n",
    "    diff = np.abs(ct1 - ct2)\n",
    "    print(diff.mean(), diff[mask].mean())"
   ],
   "outputs": [],
   "metadata": {}
  },
  {
   "cell_type": "code",
   "execution_count": 7,
   "source": [
    "name1 = '/cluster/project/jbuhmann/xiali/datasets/4DCT/07-02-2003-NA-p4-14571/ph60.mha'\n",
    "name2 = '/cluster/project/jbuhmann/xiali/NeRF-2022-07/INR-180/logs/ph60-d30-smp512-bs64-n8-ft-lr1en5/recon.mha'\n",
    "\n",
    "arr1 = load(name1)\n",
    "mask = load(name1.replace('.mha', '_mask.mha')).astype(np.bool_)\n",
    "arr2 = load(name2)\n",
    "maskMAE(arr1, arr2, mask)"
   ],
   "outputs": [
    {
     "output_type": "stream",
     "name": "stdout",
     "text": [
      "24.521503018661285 51.21348739322774\n"
     ]
    }
   ],
   "metadata": {}
  },
  {
   "cell_type": "code",
   "execution_count": 15,
   "source": [
    "name1 = '/cluster/project/jbuhmann/xiali/datasets/4DCT/07-02-2003-NA-p4-14571/ph10.mha'\n",
    "name2 = '/cluster/project/jbuhmann/xiali/NeRF-2022-07/INR-180/logs/ph10-d180-smp64-bs512-n1/recon.mha'\n",
    "\n",
    "arr1 = load(name1)\n",
    "# mask = arr1 > -200\n",
    "mask = load(name1.replace('.mha', '_mask.mha')).astype(np.bool_)\n",
    "arr2 = load(name2)\n",
    "maskMAE(arr1, arr2, mask)"
   ],
   "outputs": [
    {
     "output_type": "stream",
     "name": "stdout",
     "text": [
      "31.495507844736878 58.230061108066415\n"
     ]
    }
   ],
   "metadata": {}
  },
  {
   "cell_type": "code",
   "execution_count": 5,
   "source": [
    "name = '/cluster/project/jbuhmann/xiali/datasets/4DCT/07-02-2003-NA-p4-14571/ph10.mha'\n",
    "arr = load(name)\n",
    "H, D, W = arr.shape\n",
    "\n",
    "arr_u = np.roll(arr, -1, 0)\n",
    "arr_d = np.roll(arr, 1, 0)\n",
    "arr_f = np.roll(arr, -1, 1)\n",
    "arr_b = np.roll(arr, 1, 1)\n",
    "arr_l = np.roll(arr, -1, 2)\n",
    "arr_r = np.roll(arr, 1, 2)\n",
    "\n",
    "arr_ave = (2 * arr + arr_u + arr_d + arr_f + arr_b + arr_l + arr_r) / 8\n",
    "maskMAE(arr, arr_ave)"
   ],
   "outputs": [
    {
     "output_type": "stream",
     "name": "stdout",
     "text": [
      "17.32647158470142\n"
     ]
    }
   ],
   "metadata": {}
  },
  {
   "cell_type": "code",
   "execution_count": null,
   "source": [],
   "outputs": [],
   "metadata": {}
  }
 ],
 "metadata": {
  "orig_nbformat": 4,
  "language_info": {
   "name": "python",
   "version": "3.8.5",
   "mimetype": "text/x-python",
   "codemirror_mode": {
    "name": "ipython",
    "version": 3
   },
   "pygments_lexer": "ipython3",
   "nbconvert_exporter": "python",
   "file_extension": ".py"
  },
  "kernelspec": {
   "name": "python3",
   "display_name": "Python 3.8.5 64-bit ('venv': venv)"
  },
  "interpreter": {
   "hash": "623a63841c1a31495bfd9836a3a62799b8eaca6c8ad5160d49b6c34db92de76b"
  }
 },
 "nbformat": 4,
 "nbformat_minor": 2
}