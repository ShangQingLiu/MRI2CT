{
 "cells": [
  {
   "cell_type": "code",
   "execution_count": 2,
   "metadata": {},
   "outputs": [],
   "source": [
    "import SimpleITK as sitk\n",
    "import os"
   ]
  },
  {
   "cell_type": "code",
   "execution_count": 9,
   "metadata": {},
   "outputs": [],
   "source": [
    "# Set the input and output directories\n",
    "input_dir = \"/Users/fabianzhang/Downloads/INR-180/data/case_01/\"\n",
    "output_dir = \"./data_nii/\"\n",
    "\n",
    "# Create the output directory if it doesn't already exist\n",
    "if not os.path.exists(output_dir):\n",
    "    os.makedirs(output_dir)\n",
    "\n",
    "# Loop over all files in the input directory\n",
    "for filename in os.listdir(input_dir):\n",
    "    if filename.endswith(\".mha\"):\n",
    "        # Read the image\n",
    "        path = os.path.join(input_dir, filename)\n",
    "        img = sitk.ReadImage(path)\n",
    "\n",
    "        # Save the image in the output directory with a .nii.gz extension\n",
    "        output_path = os.path.join(output_dir, os.path.splitext(filename)[0] + \".nii.gz\")\n",
    "        sitk.WriteImage(img, output_path)"
   ]
  },
  {
   "cell_type": "code",
   "execution_count": 8,
   "metadata": {},
   "outputs": [
    {
     "name": "stderr",
     "output_type": "stream",
     "text": [
      "HDF5-DIAG: Error detected in HDF5 (1.12.1) thread 0:\n",
      "  #000: /usr/local/miniconda/envs/bld/conda-bld/simpleitk_1670976291555/work/build/ITK/Modules/ThirdParty/HDF5/src/itkhdf5/src/H5Fdeprec.c line 156 in itk_H5Fis_hdf5(): unable to determine if file is accessible as HDF5\n",
      "    major: File accessibility\n",
      "    minor: Not an HDF5 file\n",
      "  #001: /usr/local/miniconda/envs/bld/conda-bld/simpleitk_1670976291555/work/build/ITK/Modules/ThirdParty/HDF5/src/itkhdf5/src/H5VLcallback.c line 3769 in itk_H5VL_file_specific(): file specific failed\n",
      "    major: Virtual Object Layer\n",
      "    minor: Can't operate on object\n",
      "  #002: /usr/local/miniconda/envs/bld/conda-bld/simpleitk_1670976291555/work/build/ITK/Modules/ThirdParty/HDF5/src/itkhdf5/src/H5VLcallback.c line 3699 in H5VL__file_specific(): file specific failed\n",
      "    major: Virtual Object Layer\n",
      "    minor: Can't operate on object\n",
      "  #003: /usr/local/miniconda/envs/bld/conda-bld/simpleitk_1670976291555/work/build/ITK/Modules/ThirdParty/HDF5/src/itkhdf5/src/H5VLnative_file.c line 384 in itk_H5VL__native_file_specific(): error in HDF5 file check\n",
      "    major: File accessibility\n",
      "    minor: Unable to initialize object\n",
      "  #004: /usr/local/miniconda/envs/bld/conda-bld/simpleitk_1670976291555/work/build/ITK/Modules/ThirdParty/HDF5/src/itkhdf5/src/H5Fint.c line 1086 in itk_H5F__is_hdf5(): error while trying to locate file signature\n",
      "    major: File accessibility\n",
      "    minor: Not an HDF5 file\n",
      "  #005: /usr/local/miniconda/envs/bld/conda-bld/simpleitk_1670976291555/work/build/ITK/Modules/ThirdParty/HDF5/src/itkhdf5/src/H5FDint.c line 113 in itk_H5FD_locate_signature(): unable to read file signature\n",
      "    major: Low-level I/O\n",
      "    minor: Unable to initialize object\n",
      "  #006: /usr/local/miniconda/envs/bld/conda-bld/simpleitk_1670976291555/work/build/ITK/Modules/ThirdParty/HDF5/src/itkhdf5/src/H5FDint.c line 189 in itk_H5FD_read(): driver read request failed\n",
      "    major: Virtual File Layer\n",
      "    minor: Read failed\n",
      "  #007: /usr/local/miniconda/envs/bld/conda-bld/simpleitk_1670976291555/work/build/ITK/Modules/ThirdParty/HDF5/src/itkhdf5/src/H5FDsec2.c line 761 in H5FD__sec2_read(): file read failed: time = Wed Mar 22 14:21:52 2023\n",
      ", filename = '/Users/fabianzhang/Downloads/INR-180/datasets/07-02-2003-NA-p4-14571', file descriptor = 72, errno = 21, error message = 'Is a directory', buf = 0x7ff7b4d7ee58, total read size = 8, bytes this sub-read = 8, bytes actually read = 18446744073709551615, offset = 0\n",
      "    major: Low-level I/O\n",
      "    minor: Read failed\n"
     ]
    },
    {
     "ename": "RuntimeError",
     "evalue": "Exception thrown in SimpleITK ImageFileReader_Execute: /usr/local/miniconda/envs/bld/conda-bld/simpleitk_1670976291555/work/Code/IO/src/sitkImageReaderBase.cxx:105:\nsitk::ERROR: Unable to determine ImageIO reader for \"/Users/fabianzhang/Downloads/INR-180/datasets/07-02-2003-NA-p4-14571\"",
     "output_type": "error",
     "traceback": [
      "\u001b[0;31m---------------------------------------------------------------------------\u001b[0m",
      "\u001b[0;31mRuntimeError\u001b[0m                              Traceback (most recent call last)",
      "Cell \u001b[0;32mIn[8], line 2\u001b[0m\n\u001b[1;32m      1\u001b[0m path \u001b[39m=\u001b[39m \u001b[39m\"\u001b[39m\u001b[39m/Users/fabianzhang/Downloads/INR-180/datasets/07-02-2003-NA-p4-14571\u001b[39m\u001b[39m\"\u001b[39m\n\u001b[0;32m----> 2\u001b[0m img \u001b[39m=\u001b[39m sitk\u001b[39m.\u001b[39;49mReadImage(path)\n\u001b[1;32m      3\u001b[0m sitk\u001b[39m.\u001b[39mWriteImage(img, ph10\u001b[39m.\u001b[39mmha)\n",
      "File \u001b[0;32m/opt/anaconda3/envs/INR/lib/python3.9/site-packages/SimpleITK/extra.py:355\u001b[0m, in \u001b[0;36mReadImage\u001b[0;34m(fileName, outputPixelType, imageIO)\u001b[0m\n\u001b[1;32m    353\u001b[0m reader\u001b[39m.\u001b[39mSetImageIO(imageIO)\n\u001b[1;32m    354\u001b[0m reader\u001b[39m.\u001b[39mSetOutputPixelType(outputPixelType)\n\u001b[0;32m--> 355\u001b[0m \u001b[39mreturn\u001b[39;00m reader\u001b[39m.\u001b[39;49mExecute()\n",
      "File \u001b[0;32m/opt/anaconda3/envs/INR/lib/python3.9/site-packages/SimpleITK/SimpleITK.py:8438\u001b[0m, in \u001b[0;36mImageFileReader.Execute\u001b[0;34m(self)\u001b[0m\n\u001b[1;32m   8425\u001b[0m \u001b[39mdef\u001b[39;00m \u001b[39mExecute\u001b[39m(\u001b[39mself\u001b[39m):\n\u001b[1;32m   8426\u001b[0m \u001b[39m    \u001b[39m\u001b[39mr\u001b[39m\u001b[39m\"\"\"\u001b[39;00m\n\u001b[1;32m   8427\u001b[0m \u001b[39m    Execute(ImageFileReader self) -> Image\u001b[39;00m\n\u001b[1;32m   8428\u001b[0m \n\u001b[0;32m   (...)\u001b[0m\n\u001b[1;32m   8436\u001b[0m \n\u001b[1;32m   8437\u001b[0m \u001b[39m    \"\"\"\u001b[39;00m\n\u001b[0;32m-> 8438\u001b[0m     \u001b[39mreturn\u001b[39;00m _SimpleITK\u001b[39m.\u001b[39;49mImageFileReader_Execute(\u001b[39mself\u001b[39;49m)\n",
      "\u001b[0;31mRuntimeError\u001b[0m: Exception thrown in SimpleITK ImageFileReader_Execute: /usr/local/miniconda/envs/bld/conda-bld/simpleitk_1670976291555/work/Code/IO/src/sitkImageReaderBase.cxx:105:\nsitk::ERROR: Unable to determine ImageIO reader for \"/Users/fabianzhang/Downloads/INR-180/datasets/07-02-2003-NA-p4-14571\""
     ]
    }
   ],
   "source": [
    "path = \"/Users/fabianzhang/Downloads/INR-180/datasets/07-02-2003-NA-p4-14571\"\n",
    "img = sitk.ReadImage(path)\n",
    "sitk.WriteImage(img, ph10.mha)"
   ]
  },
  {
   "cell_type": "code",
   "execution_count": null,
   "metadata": {},
   "outputs": [],
   "source": []
  }
 ],
 "metadata": {
  "kernelspec": {
   "display_name": "Python 3",
   "language": "python",
   "name": "python3"
  },
  "language_info": {
   "codemirror_mode": {
    "name": "ipython",
    "version": 3
   },
   "file_extension": ".py",
   "mimetype": "text/x-python",
   "name": "python",
   "nbconvert_exporter": "python",
   "pygments_lexer": "ipython3",
   "version": "3.9.16"
  },
  "orig_nbformat": 4
 },
 "nbformat": 4,
 "nbformat_minor": 2
}
